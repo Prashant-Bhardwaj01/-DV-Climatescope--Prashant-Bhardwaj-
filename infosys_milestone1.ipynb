{
  "nbformat": 4,
  "nbformat_minor": 0,
  "metadata": {
    "colab": {
      "provenance": []
    },
    "kernelspec": {
      "name": "python3",
      "display_name": "Python 3"
    },
    "language_info": {
      "name": "python"
    }
  },
  "cells": [
    {
      "cell_type": "markdown",
      "source": [
        "# **MILESTONE 1:**"
      ],
      "metadata": {
        "id": "N12kPDKeTcZB"
      }
    },
    {
      "cell_type": "code",
      "execution_count": 35,
      "metadata": {
        "id": "bn8bGALqs5GO"
      },
      "outputs": [],
      "source": [
        "import pandas as pd\n",
        "import matplotlib.pyplot as plt\n",
        "df = pd.read_csv(\"/content/drive/MyDrive/Colab Notebooks/GlobalWeatherRepository.csv\")"
      ]
    },
    {
      "cell_type": "markdown",
      "source": [
        "# **Inspection of data**"
      ],
      "metadata": {
        "id": "LFpeh0GBMUV1"
      }
    },
    {
      "cell_type": "code",
      "source": [
        "print(\"Shape of dataset: \",df.shape)\n",
        "print(\"First 5 rows: \",df.head())"
      ],
      "metadata": {
        "id": "rjEqfIC7R8Mc",
        "colab": {
          "base_uri": "https://localhost:8080/"
        },
        "outputId": "b3e13152-5297-4b03-eb35-740147b707b3",
        "collapsed": true
      },
      "execution_count": 36,
      "outputs": [
        {
          "output_type": "stream",
          "name": "stdout",
          "text": [
            "Shape of dataset:  (88273, 41)\n",
            "First 5 rows:         country     location_name  latitude  longitude        timezone  \\\n",
            "0  Afghanistan             Kabul     34.52      69.18      Asia/Kabul   \n",
            "1      Albania            Tirana     41.33      19.82   Europe/Tirane   \n",
            "2      Algeria           Algiers     36.76       3.05  Africa/Algiers   \n",
            "3      Andorra  Andorra La Vella     42.50       1.52  Europe/Andorra   \n",
            "4       Angola            Luanda     -8.84      13.23   Africa/Luanda   \n",
            "\n",
            "   last_updated_epoch      last_updated  temperature_celsius  \\\n",
            "0          1715849100  16-05-2024 13:15                 26.6   \n",
            "1          1715849100  16-05-2024 10:45                 19.0   \n",
            "2          1715849100  16-05-2024 09:45                 23.0   \n",
            "3          1715849100  16-05-2024 10:45                  6.3   \n",
            "4          1715849100  16-05-2024 09:45                 26.0   \n",
            "\n",
            "   temperature_fahrenheit condition_text  ...  air_quality_PM2.5  \\\n",
            "0                    79.8  Partly Cloudy  ...                8.4   \n",
            "1                    66.2  Partly cloudy  ...                1.1   \n",
            "2                    73.4          Sunny  ...               10.4   \n",
            "3                    43.3  Light drizzle  ...                0.7   \n",
            "4                    78.8  Partly cloudy  ...              183.4   \n",
            "\n",
            "   air_quality_PM10  air_quality_us-epa-index air_quality_gb-defra-index  \\\n",
            "0              26.6                         1                          1   \n",
            "1               2.0                         1                          1   \n",
            "2              18.4                         1                          1   \n",
            "3               0.9                         1                          1   \n",
            "4             262.3                         5                         10   \n",
            "\n",
            "   sunrise   sunset  moonrise   moonset      moon_phase  moon_illumination  \n",
            "0  4:50 AM  6:50 PM  12:12 PM   1:11 AM  Waxing Gibbous                 55  \n",
            "1  5:21 AM  7:54 PM  12:58 PM   2:14 AM  Waxing Gibbous                 55  \n",
            "2  5:40 AM  7:50 PM   1:15 PM   2:14 AM  Waxing Gibbous                 55  \n",
            "3  6:31 AM  9:11 PM   2:12 PM   3:31 AM  Waxing Gibbous                 55  \n",
            "4  6:12 AM  5:55 PM   1:17 PM  12:38 AM  Waxing Gibbous                 55  \n",
            "\n",
            "[5 rows x 41 columns]\n"
          ]
        }
      ]
    },
    {
      "cell_type": "markdown",
      "source": [
        "# INFORMATION"
      ],
      "metadata": {
        "id": "9gq8-ceUM9AK"
      }
    },
    {
      "cell_type": "code",
      "source": [
        "print(df.info())"
      ],
      "metadata": {
        "colab": {
          "base_uri": "https://localhost:8080/"
        },
        "id": "A2rVDRCITHrJ",
        "outputId": "6f83c292-5713-41c0-e050-09d93bc8d856"
      },
      "execution_count": 37,
      "outputs": [
        {
          "output_type": "stream",
          "name": "stdout",
          "text": [
            "<class 'pandas.core.frame.DataFrame'>\n",
            "RangeIndex: 88273 entries, 0 to 88272\n",
            "Data columns (total 41 columns):\n",
            " #   Column                        Non-Null Count  Dtype  \n",
            "---  ------                        --------------  -----  \n",
            " 0   country                       88273 non-null  object \n",
            " 1   location_name                 88273 non-null  object \n",
            " 2   latitude                      88273 non-null  float64\n",
            " 3   longitude                     88273 non-null  float64\n",
            " 4   timezone                      88273 non-null  object \n",
            " 5   last_updated_epoch            88273 non-null  int64  \n",
            " 6   last_updated                  88273 non-null  object \n",
            " 7   temperature_celsius           88273 non-null  float64\n",
            " 8   temperature_fahrenheit        88273 non-null  float64\n",
            " 9   condition_text                88273 non-null  object \n",
            " 10  wind_mph                      88273 non-null  float64\n",
            " 11  wind_kph                      88273 non-null  float64\n",
            " 12  wind_degree                   88273 non-null  int64  \n",
            " 13  wind_direction                88273 non-null  object \n",
            " 14  pressure_mb                   88273 non-null  int64  \n",
            " 15  pressure_in                   88273 non-null  float64\n",
            " 16  precip_mm                     88273 non-null  float64\n",
            " 17  precip_in                     88273 non-null  float64\n",
            " 18  humidity                      88273 non-null  int64  \n",
            " 19  cloud                         88273 non-null  int64  \n",
            " 20  feels_like_celsius            88273 non-null  float64\n",
            " 21  feels_like_fahrenheit         88273 non-null  float64\n",
            " 22  visibility_km                 88273 non-null  float64\n",
            " 23  visibility_miles              88273 non-null  int64  \n",
            " 24  uv_index                      88273 non-null  float64\n",
            " 25  gust_mph                      88273 non-null  float64\n",
            " 26  gust_kph                      88273 non-null  float64\n",
            " 27  air_quality_Carbon_Monoxide   88273 non-null  float64\n",
            " 28  air_quality_Ozone             88273 non-null  float64\n",
            " 29  air_quality_Nitrogen_dioxide  88273 non-null  float64\n",
            " 30  air_quality_Sulphur_dioxide   88273 non-null  float64\n",
            " 31  air_quality_PM2.5             88273 non-null  float64\n",
            " 32  air_quality_PM10              88273 non-null  float64\n",
            " 33  air_quality_us-epa-index      88273 non-null  int64  \n",
            " 34  air_quality_gb-defra-index    88273 non-null  int64  \n",
            " 35  sunrise                       88273 non-null  object \n",
            " 36  sunset                        88273 non-null  object \n",
            " 37  moonrise                      88273 non-null  object \n",
            " 38  moonset                       88273 non-null  object \n",
            " 39  moon_phase                    88273 non-null  object \n",
            " 40  moon_illumination             88273 non-null  int64  \n",
            "dtypes: float64(21), int64(9), object(11)\n",
            "memory usage: 27.6+ MB\n",
            "None\n"
          ]
        }
      ]
    },
    {
      "cell_type": "markdown",
      "source": [
        "## SUMMARY OF THE DATASET\n"
      ],
      "metadata": {
        "id": "bGCXX3oTQJCI"
      }
    },
    {
      "cell_type": "code",
      "source": [
        "print(df.describe())"
      ],
      "metadata": {
        "colab": {
          "base_uri": "https://localhost:8080/"
        },
        "id": "-gX2Wi0ZTKzu",
        "outputId": "93bf1b8d-d9a7-4d42-c649-6a5313fe8331"
      },
      "execution_count": 38,
      "outputs": [
        {
          "output_type": "stream",
          "name": "stdout",
          "text": [
            "           latitude     longitude  last_updated_epoch  temperature_celsius  \\\n",
            "count  88273.000000  88273.000000        8.827300e+04         88273.000000   \n",
            "mean      19.125848     22.172647        1.735507e+09            22.681788   \n",
            "std       24.470798     65.836668        1.135389e+07             9.091355   \n",
            "min      -41.300000   -175.200000        1.715849e+09           -24.900000   \n",
            "25%        3.750000     -6.836100        1.725710e+09            18.000000   \n",
            "50%       17.250000     23.316700        1.735555e+09            25.000000   \n",
            "75%       40.400000     50.580000        1.745313e+09            28.400000   \n",
            "max       64.150000    179.220000        1.755074e+09            49.200000   \n",
            "\n",
            "       temperature_fahrenheit      wind_mph      wind_kph   wind_degree  \\\n",
            "count            88273.000000  88273.000000  88273.000000  88273.000000   \n",
            "mean                72.828923      8.292613     13.348916    170.584743   \n",
            "std                 16.364215      8.137603     13.093950    103.107058   \n",
            "min                -12.800000      2.200000      3.600000      1.000000   \n",
            "25%                 64.400000      4.000000      6.500000     82.000000   \n",
            "50%                 77.000000      6.900000     11.200000    164.000000   \n",
            "75%                 83.100000     11.400000     18.400000    257.000000   \n",
            "max                120.600000   1841.200000   2963.200000    360.000000   \n",
            "\n",
            "        pressure_mb   pressure_in  ...      gust_kph  \\\n",
            "count  88273.000000  88273.000000  ...  88273.000000   \n",
            "mean    1013.966536     29.941799  ...     18.752776   \n",
            "std       11.786522      0.348003  ...     15.089616   \n",
            "min      947.000000     27.960000  ...      3.600000   \n",
            "25%     1010.000000     29.830000  ...     10.700000   \n",
            "50%     1013.000000     29.920000  ...     16.200000   \n",
            "75%     1017.000000     30.050000  ...     24.800000   \n",
            "max     3006.000000     88.770000  ...   2970.400000   \n",
            "\n",
            "       air_quality_Carbon_Monoxide  air_quality_Ozone  \\\n",
            "count                 88273.000000       88273.000000   \n",
            "mean                    517.197758          63.691560   \n",
            "std                     860.151958          33.050899   \n",
            "min                   -9999.000000           0.000000   \n",
            "25%                     234.950000          43.000000   \n",
            "50%                     327.100000          61.000000   \n",
            "75%                     505.050000          81.000000   \n",
            "max                   38879.398000         480.700000   \n",
            "\n",
            "       air_quality_Nitrogen_dioxide  air_quality_Sulphur_dioxide  \\\n",
            "count                  88273.000000                 88273.000000   \n",
            "mean                      15.485259                    11.320585   \n",
            "std                       25.964224                    42.271465   \n",
            "min                        0.000000                 -9999.000000   \n",
            "25%                        1.295000                     0.800000   \n",
            "50%                        4.440000                     2.405000   \n",
            "75%                       17.205000                     9.065000   \n",
            "max                      427.700000                   521.330000   \n",
            "\n",
            "       air_quality_PM2.5  air_quality_PM10  air_quality_us-epa-index  \\\n",
            "count       88273.000000      88273.000000              88273.000000   \n",
            "mean           26.212169         54.275850                  1.760504   \n",
            "std            41.510377        163.172827                  0.988090   \n",
            "min             0.168000      -1848.150000                  1.000000   \n",
            "25%             7.030000         10.490000                  1.000000   \n",
            "50%            14.985000         22.015000                  1.000000   \n",
            "75%            30.340000         46.990000                  2.000000   \n",
            "max          1614.100000       6037.290000                  6.000000   \n",
            "\n",
            "       air_quality_gb-defra-index  moon_illumination  \n",
            "count                88273.000000       88273.000000  \n",
            "mean                     2.770020          50.746616  \n",
            "std                      2.590155          35.125443  \n",
            "min                      1.000000           0.000000  \n",
            "25%                      1.000000          16.000000  \n",
            "50%                      2.000000          52.000000  \n",
            "75%                      3.000000          86.000000  \n",
            "max                     10.000000         100.000000  \n",
            "\n",
            "[8 rows x 30 columns]\n"
          ]
        }
      ]
    },
    {
      "cell_type": "markdown",
      "source": [
        "# CHECKING NULL VALUES"
      ],
      "metadata": {
        "id": "ACARIOqmQgCx"
      }
    },
    {
      "cell_type": "code",
      "source": [
        "print(\"Missing values per column:\")\n",
        "print(df.isnull().sum())\n",
        "print(\"Data coverage (non-null counts):\")\n",
        "print(df.count())"
      ],
      "metadata": {
        "colab": {
          "base_uri": "https://localhost:8080/"
        },
        "id": "xnDQDOZQTNSV",
        "outputId": "3460cb41-3cd3-49e9-c0b9-243615d7e40b"
      },
      "execution_count": 39,
      "outputs": [
        {
          "output_type": "stream",
          "name": "stdout",
          "text": [
            "Missing values per column:\n",
            "country                         0\n",
            "location_name                   0\n",
            "latitude                        0\n",
            "longitude                       0\n",
            "timezone                        0\n",
            "last_updated_epoch              0\n",
            "last_updated                    0\n",
            "temperature_celsius             0\n",
            "temperature_fahrenheit          0\n",
            "condition_text                  0\n",
            "wind_mph                        0\n",
            "wind_kph                        0\n",
            "wind_degree                     0\n",
            "wind_direction                  0\n",
            "pressure_mb                     0\n",
            "pressure_in                     0\n",
            "precip_mm                       0\n",
            "precip_in                       0\n",
            "humidity                        0\n",
            "cloud                           0\n",
            "feels_like_celsius              0\n",
            "feels_like_fahrenheit           0\n",
            "visibility_km                   0\n",
            "visibility_miles                0\n",
            "uv_index                        0\n",
            "gust_mph                        0\n",
            "gust_kph                        0\n",
            "air_quality_Carbon_Monoxide     0\n",
            "air_quality_Ozone               0\n",
            "air_quality_Nitrogen_dioxide    0\n",
            "air_quality_Sulphur_dioxide     0\n",
            "air_quality_PM2.5               0\n",
            "air_quality_PM10                0\n",
            "air_quality_us-epa-index        0\n",
            "air_quality_gb-defra-index      0\n",
            "sunrise                         0\n",
            "sunset                          0\n",
            "moonrise                        0\n",
            "moonset                         0\n",
            "moon_phase                      0\n",
            "moon_illumination               0\n",
            "dtype: int64\n",
            "Data coverage (non-null counts):\n",
            "country                         88273\n",
            "location_name                   88273\n",
            "latitude                        88273\n",
            "longitude                       88273\n",
            "timezone                        88273\n",
            "last_updated_epoch              88273\n",
            "last_updated                    88273\n",
            "temperature_celsius             88273\n",
            "temperature_fahrenheit          88273\n",
            "condition_text                  88273\n",
            "wind_mph                        88273\n",
            "wind_kph                        88273\n",
            "wind_degree                     88273\n",
            "wind_direction                  88273\n",
            "pressure_mb                     88273\n",
            "pressure_in                     88273\n",
            "precip_mm                       88273\n",
            "precip_in                       88273\n",
            "humidity                        88273\n",
            "cloud                           88273\n",
            "feels_like_celsius              88273\n",
            "feels_like_fahrenheit           88273\n",
            "visibility_km                   88273\n",
            "visibility_miles                88273\n",
            "uv_index                        88273\n",
            "gust_mph                        88273\n",
            "gust_kph                        88273\n",
            "air_quality_Carbon_Monoxide     88273\n",
            "air_quality_Ozone               88273\n",
            "air_quality_Nitrogen_dioxide    88273\n",
            "air_quality_Sulphur_dioxide     88273\n",
            "air_quality_PM2.5               88273\n",
            "air_quality_PM10                88273\n",
            "air_quality_us-epa-index        88273\n",
            "air_quality_gb-defra-index      88273\n",
            "sunrise                         88273\n",
            "sunset                          88273\n",
            "moonrise                        88273\n",
            "moonset                         88273\n",
            "moon_phase                      88273\n",
            "moon_illumination               88273\n",
            "dtype: int64\n"
          ]
        }
      ]
    },
    {
      "cell_type": "markdown",
      "source": [
        "# CHECKING MISSING %AGE IN EACH COLUMN"
      ],
      "metadata": {
        "id": "oHLG8egnQmcX"
      }
    },
    {
      "cell_type": "code",
      "source": [
        "missing_prcntge = (df.isnull().sum() / len(df) * 100)\n",
        "print(\"Missing percentage per column:\")\n",
        "print(missing_prcntge)"
      ],
      "metadata": {
        "colab": {
          "base_uri": "https://localhost:8080/"
        },
        "id": "ASC8c7GHPQKy",
        "outputId": "6bf4f0d9-d794-4800-bf6c-88dab2fc70be"
      },
      "execution_count": 40,
      "outputs": [
        {
          "output_type": "stream",
          "name": "stdout",
          "text": [
            "Missing percentage per column:\n",
            "country                         0.0\n",
            "location_name                   0.0\n",
            "latitude                        0.0\n",
            "longitude                       0.0\n",
            "timezone                        0.0\n",
            "last_updated_epoch              0.0\n",
            "last_updated                    0.0\n",
            "temperature_celsius             0.0\n",
            "temperature_fahrenheit          0.0\n",
            "condition_text                  0.0\n",
            "wind_mph                        0.0\n",
            "wind_kph                        0.0\n",
            "wind_degree                     0.0\n",
            "wind_direction                  0.0\n",
            "pressure_mb                     0.0\n",
            "pressure_in                     0.0\n",
            "precip_mm                       0.0\n",
            "precip_in                       0.0\n",
            "humidity                        0.0\n",
            "cloud                           0.0\n",
            "feels_like_celsius              0.0\n",
            "feels_like_fahrenheit           0.0\n",
            "visibility_km                   0.0\n",
            "visibility_miles                0.0\n",
            "uv_index                        0.0\n",
            "gust_mph                        0.0\n",
            "gust_kph                        0.0\n",
            "air_quality_Carbon_Monoxide     0.0\n",
            "air_quality_Ozone               0.0\n",
            "air_quality_Nitrogen_dioxide    0.0\n",
            "air_quality_Sulphur_dioxide     0.0\n",
            "air_quality_PM2.5               0.0\n",
            "air_quality_PM10                0.0\n",
            "air_quality_us-epa-index        0.0\n",
            "air_quality_gb-defra-index      0.0\n",
            "sunrise                         0.0\n",
            "sunset                          0.0\n",
            "moonrise                        0.0\n",
            "moonset                         0.0\n",
            "moon_phase                      0.0\n",
            "moon_illumination               0.0\n",
            "dtype: float64\n"
          ]
        }
      ]
    },
    {
      "cell_type": "markdown",
      "source": [
        "# **AGGREGATE THE DATE COLUMN **"
      ],
      "metadata": {
        "id": "6JH0dvhKT34F"
      }
    },
    {
      "cell_type": "code",
      "source": [
        "if 'last_updated' in df.columns:\n",
        "    df['last_updated'] = pd.to_datetime(df['last_updated'])\n",
        "    df.set_index('last_updated', inplace=True)\n",
        "    monthly_avg = df.resample('M').mean(numeric_only=True)\n",
        "    print(\"Monthly averages:\")\n",
        "    print(monthly_avg.head())\n",
        ""
      ],
      "metadata": {
        "colab": {
          "base_uri": "https://localhost:8080/"
        },
        "id": "0PYEB1AlRtzQ",
        "outputId": "99a6ebf6-2a43-4662-b928-8762827eba0f"
      },
      "execution_count": 41,
      "outputs": [
        {
          "output_type": "stream",
          "name": "stdout",
          "text": [
            "Monthly averages:\n",
            "               latitude  longitude  last_updated_epoch  temperature_celsius  \\\n",
            "last_updated                                                                  \n",
            "2024-05-31    19.330079  21.252653        1.716476e+09            25.153214   \n",
            "2024-06-30    19.169585  21.786945        1.718494e+09            26.456036   \n",
            "2024-07-31    19.090607  22.195843        1.721096e+09            26.800448   \n",
            "2024-08-31    19.107315  22.088584        1.723808e+09            26.789677   \n",
            "2024-09-30    19.064397  22.147510        1.726441e+09            25.124402   \n",
            "\n",
            "              temperature_fahrenheit  wind_mph   wind_kph  wind_degree  \\\n",
            "last_updated                                                             \n",
            "2024-05-31                 77.275500  8.897635  14.322680   170.234384   \n",
            "2024-06-30                 79.622507  9.127415  14.694197   178.421044   \n",
            "2024-07-31                 80.242645  8.684089  13.979538   183.502419   \n",
            "2024-08-31                 80.223093  8.643540  13.915649   180.594045   \n",
            "2024-09-30                 77.226417  8.222507  13.235980   169.814720   \n",
            "\n",
            "              pressure_mb  pressure_in  ...   gust_kph  \\\n",
            "last_updated                            ...              \n",
            "2024-05-31    1013.072468    29.915200  ...  22.285567   \n",
            "2024-06-30    1011.961081    29.882314  ...  22.217324   \n",
            "2024-07-31    1011.521233    29.869713  ...  20.857391   \n",
            "2024-08-31    1011.993052    29.883611  ...  20.407428   \n",
            "2024-09-30    1013.014173    29.913465  ...  18.974658   \n",
            "\n",
            "              air_quality_Carbon_Monoxide  air_quality_Ozone  \\\n",
            "last_updated                                                   \n",
            "2024-05-31                     527.585263          60.698423   \n",
            "2024-06-30                     501.149371          63.579353   \n",
            "2024-07-31                     446.389697          65.601846   \n",
            "2024-08-31                     438.953069          67.023672   \n",
            "2024-09-30                     407.732131          70.947643   \n",
            "\n",
            "              air_quality_Nitrogen_dioxide  air_quality_Sulphur_dioxide  \\\n",
            "last_updated                                                              \n",
            "2024-05-31                       10.185324                     6.788720   \n",
            "2024-06-30                        9.038798                     6.582004   \n",
            "2024-07-31                        8.044042                     4.098208   \n",
            "2024-08-31                        8.006352                     5.857237   \n",
            "2024-09-30                       10.442420                     9.618837   \n",
            "\n",
            "              air_quality_PM2.5  air_quality_PM10  air_quality_us-epa-index  \\\n",
            "last_updated                                                                  \n",
            "2024-05-31            17.821771         33.466252                  1.391146   \n",
            "2024-06-30            16.837369         30.644171                  1.358016   \n",
            "2024-07-31            15.947017         28.087225                  1.318043   \n",
            "2024-08-31            14.332291         24.084119                  1.310835   \n",
            "2024-09-30            20.946278         44.547416                  1.618852   \n",
            "\n",
            "              air_quality_gb-defra-index  moon_illumination  \n",
            "last_updated                                                 \n",
            "2024-05-31                      1.850819          78.780776  \n",
            "2024-06-30                      1.788359          49.536077  \n",
            "2024-07-31                      1.712955          43.570865  \n",
            "2024-08-31                      1.720430          45.561125  \n",
            "2024-09-30                      2.353654          46.063525  \n",
            "\n",
            "[5 rows x 30 columns]\n"
          ]
        },
        {
          "output_type": "stream",
          "name": "stderr",
          "text": [
            "/tmp/ipython-input-2521578419.py:2: UserWarning: Parsing dates in %d-%m-%Y %H:%M format when dayfirst=False (the default) was specified. Pass `dayfirst=True` or specify a format to silence this warning.\n",
            "  df['last_updated'] = pd.to_datetime(df['last_updated'])\n",
            "/tmp/ipython-input-2521578419.py:4: FutureWarning: 'M' is deprecated and will be removed in a future version, please use 'ME' instead.\n",
            "  monthly_avg = df.resample('M').mean(numeric_only=True)\n"
          ]
        }
      ]
    },
    {
      "cell_type": "markdown",
      "source": [
        "# **MONTHLY AVR. TEMP. TREND**"
      ],
      "metadata": {
        "id": "JBarPRPFURnu"
      }
    },
    {
      "cell_type": "code",
      "source": [
        "    plt.plot(monthly_avg.index,monthly_avg['temperature_celsius'])\n",
        "    plt.title(\"Monthly Average Temperature Trend\")\n",
        "    plt.xlabel(\"Month\")\n",
        "    plt.ylabel(\"Temperature (°C)\")\n",
        "    plt.show()"
      ],
      "metadata": {
        "id": "i3Z0xmuXTReE",
        "colab": {
          "base_uri": "https://localhost:8080/",
          "height": 472
        },
        "outputId": "015fa3a9-0f99-4b9c-9f55-8b2ad75f70e1"
      },
      "execution_count": 42,
      "outputs": [
        {
          "output_type": "display_data",
          "data": {
            "text/plain": [
              "<Figure size 640x480 with 1 Axes>"
            ],
            "image/png": "[encoded data removed]"
          },
          "metadata": {}
        }
      ]
    },
    {
      "cell_type": "markdown",
      "source": [
        "## REMOVING DUPLICATE COLUMNS"
      ],
      "metadata": {
        "id": "SZ4FGhBeSrRt"
      }
    },
    {
      "cell_type": "code",
      "source": [
        "df_cpy = df.copy()\n",
        "df_cpy.drop(columns=[\n",
        "    \"temperature_fahrenheit\",\"gust_mph\",\"feels_like_fahrenheit\",\n",
        "    \"wind_mph\", \"pressure_in\", \"precip_in\",\n",
        "    \"visibility_miles\"\n",
        "], inplace=True)\n",
        "print(df_cpy.head())"
      ],
      "metadata": {
        "colab": {
          "base_uri": "https://localhost:8080/"
        },
        "id": "H-rc0B8ESFf8",
        "outputId": "db8cd847-453a-413b-896a-4b4982dc847d"
      },
      "execution_count": 43,
      "outputs": [
        {
          "output_type": "stream",
          "name": "stdout",
          "text": [
            "                         country     location_name  latitude  longitude  \\\n",
            "last_updated                                                              \n",
            "2024-05-16 13:15:00  Afghanistan             Kabul     34.52      69.18   \n",
            "2024-05-16 10:45:00      Albania            Tirana     41.33      19.82   \n",
            "2024-05-16 09:45:00      Algeria           Algiers     36.76       3.05   \n",
            "2024-05-16 10:45:00      Andorra  Andorra La Vella     42.50       1.52   \n",
            "2024-05-16 09:45:00       Angola            Luanda     -8.84      13.23   \n",
            "\n",
            "                           timezone  last_updated_epoch  temperature_celsius  \\\n",
            "last_updated                                                                   \n",
            "2024-05-16 13:15:00      Asia/Kabul          1715849100                 26.6   \n",
            "2024-05-16 10:45:00   Europe/Tirane          1715849100                 19.0   \n",
            "2024-05-16 09:45:00  Africa/Algiers          1715849100                 23.0   \n",
            "2024-05-16 10:45:00  Europe/Andorra          1715849100                  6.3   \n",
            "2024-05-16 09:45:00   Africa/Luanda          1715849100                 26.0   \n",
            "\n",
            "                    condition_text  wind_kph  wind_degree  ...  \\\n",
            "last_updated                                               ...   \n",
            "2024-05-16 13:15:00  Partly Cloudy      13.3          338  ...   \n",
            "2024-05-16 10:45:00  Partly cloudy      11.2          320  ...   \n",
            "2024-05-16 09:45:00          Sunny      15.1          280  ...   \n",
            "2024-05-16 10:45:00  Light drizzle      11.9          215  ...   \n",
            "2024-05-16 09:45:00  Partly cloudy      13.0          150  ...   \n",
            "\n",
            "                    air_quality_PM2.5  air_quality_PM10  \\\n",
            "last_updated                                              \n",
            "2024-05-16 13:15:00               8.4              26.6   \n",
            "2024-05-16 10:45:00               1.1               2.0   \n",
            "2024-05-16 09:45:00              10.4              18.4   \n",
            "2024-05-16 10:45:00               0.7               0.9   \n",
            "2024-05-16 09:45:00             183.4             262.3   \n",
            "\n",
            "                     air_quality_us-epa-index  air_quality_gb-defra-index  \\\n",
            "last_updated                                                                \n",
            "2024-05-16 13:15:00                         1                           1   \n",
            "2024-05-16 10:45:00                         1                           1   \n",
            "2024-05-16 09:45:00                         1                           1   \n",
            "2024-05-16 10:45:00                         1                           1   \n",
            "2024-05-16 09:45:00                         5                          10   \n",
            "\n",
            "                     sunrise   sunset  moonrise   moonset      moon_phase  \\\n",
            "last_updated                                                                \n",
            "2024-05-16 13:15:00  4:50 AM  6:50 PM  12:12 PM   1:11 AM  Waxing Gibbous   \n",
            "2024-05-16 10:45:00  5:21 AM  7:54 PM  12:58 PM   2:14 AM  Waxing Gibbous   \n",
            "2024-05-16 09:45:00  5:40 AM  7:50 PM   1:15 PM   2:14 AM  Waxing Gibbous   \n",
            "2024-05-16 10:45:00  6:31 AM  9:11 PM   2:12 PM   3:31 AM  Waxing Gibbous   \n",
            "2024-05-16 09:45:00  6:12 AM  5:55 PM   1:17 PM  12:38 AM  Waxing Gibbous   \n",
            "\n",
            "                     moon_illumination  \n",
            "last_updated                            \n",
            "2024-05-16 13:15:00                 55  \n",
            "2024-05-16 10:45:00                 55  \n",
            "2024-05-16 09:45:00                 55  \n",
            "2024-05-16 10:45:00                 55  \n",
            "2024-05-16 09:45:00                 55  \n",
            "\n",
            "[5 rows x 33 columns]\n"
          ]
        }
      ]
    },
    {
      "cell_type": "code",
      "source": [
        "df_cpy.shape"
      ],
      "metadata": {
        "colab": {
          "base_uri": "https://localhost:8080/"
        },
        "id": "15lOctWYTF_V",
        "outputId": "2d894ade-faa8-4e1c-a1e8-5aa5bd07d9cb"
      },
      "execution_count": 44,
      "outputs": [
        {
          "output_type": "execute_result",
          "data": {
            "text/plain": [
              "(88273, 33)"
            ]
          },
          "metadata": {},
          "execution_count": 44
        }
      ]
    }
  ]
}